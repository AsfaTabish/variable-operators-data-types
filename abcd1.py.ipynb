{
 "cells": [
  {
   "cell_type": "code",
   "execution_count": 2,
   "id": "0f617292",
   "metadata": {},
   "outputs": [
    {
     "name": "stdout",
     "output_type": "stream",
     "text": [
      "3\n"
     ]
    }
   ],
   "source": [
    "a = 1\n",
    "b = 2\n",
    "print(a+b)"
   ]
  },
  {
   "cell_type": "code",
   "execution_count": 3,
   "id": "fc96c87e",
   "metadata": {},
   "outputs": [
    {
     "name": "stdout",
     "output_type": "stream",
     "text": [
      "Asfa Tabish\n",
      "<class 'str'>\n",
      "2211287802864\n"
     ]
    }
   ],
   "source": [
    "name = \"Asfa Tabish\"\n",
    "print(name)\n",
    "print(type(name)) #class data type\n",
    "print(id(name)) #physical address data type"
   ]
  },
  {
   "cell_type": "code",
   "execution_count": 4,
   "id": "af477652",
   "metadata": {},
   "outputs": [
    {
     "name": "stdout",
     "output_type": "stream",
     "text": [
      "20\n",
      "<class 'int'>\n",
      "140719798261128\n"
     ]
    }
   ],
   "source": [
    "a = 20\n",
    "print(a)\n",
    "print(type(a))\n",
    "print(id(a))"
   ]
  },
  {
   "cell_type": "code",
   "execution_count": 5,
   "id": "6d42c198",
   "metadata": {},
   "outputs": [
    {
     "name": "stdout",
     "output_type": "stream",
     "text": [
      "20.7\n",
      "<class 'float'>\n",
      "2211287560880\n"
     ]
    }
   ],
   "source": [
    "a = 20.7\n",
    "print(a)\n",
    "print(type(a))\n",
    "print(id(a))"
   ]
  },
  {
   "cell_type": "code",
   "execution_count": 6,
   "id": "97554f04",
   "metadata": {},
   "outputs": [
    {
     "name": "stdout",
     "output_type": "stream",
     "text": [
      "[1, 2, 3]\n",
      "<class 'list'>\n",
      "2211288165312\n"
     ]
    }
   ],
   "source": [
    "a = [1,2,3] #list\n",
    "print(a)\n",
    "print(type(a))\n",
    "print(id(a))"
   ]
  },
  {
   "cell_type": "code",
   "execution_count": 7,
   "id": "3ab915f5",
   "metadata": {},
   "outputs": [
    {
     "name": "stdout",
     "output_type": "stream",
     "text": [
      "{1, 2, 5}\n",
      "<class 'set'>\n",
      "2211288029376\n"
     ]
    }
   ],
   "source": [
    "a = {1,1,1,2,5,5,2} #nique collection\n",
    "print(a)\n",
    "print(type(a))\n",
    "print(id(a))"
   ]
  },
  {
   "cell_type": "code",
   "execution_count": 8,
   "id": "0eaa8007",
   "metadata": {},
   "outputs": [
    {
     "name": "stdout",
     "output_type": "stream",
     "text": [
      "{'name': 'Asfa', 'education': 'DS&AI'}\n",
      "<class 'dict'>\n",
      "2211288108864\n"
     ]
    }
   ],
   "source": [
    "a = {\"name\":\"Asfa\" ,\n",
    "    \"education\":\"DS&AI\"}\n",
    "print(a)\n",
    "print(type(a))\n",
    "print(id(a))"
   ]
  },
  {
   "cell_type": "code",
   "execution_count": 9,
   "id": "89cfd6d5",
   "metadata": {},
   "outputs": [
    {
     "name": "stdout",
     "output_type": "stream",
     "text": [
      "7 <class 'int'> 140719798260712\n",
      "7 <class 'str'> 140719798304208\n",
      "7.0 <class 'float'> 2211287561136\n"
     ]
    }
   ],
   "source": [
    "a = 7 # dynamic data type language\n",
    "print(a, type(a), id(a))\n",
    "\n",
    "a = '7' # string data type langauge\n",
    "print(a, type(a), id(a))\n",
    "\n",
    "a = 7.0 # float\n",
    "print(a, type(a), id(a))"
   ]
  },
  {
   "cell_type": "code",
   "execution_count": 10,
   "id": "346a13ac",
   "metadata": {},
   "outputs": [
    {
     "name": "stdout",
     "output_type": "stream",
     "text": [
      "2\n"
     ]
    }
   ],
   "source": [
    "asfa = 1\n",
    "asfa = 2\n",
    "asfa = '2'\n",
    "print(asfa)"
   ]
  },
  {
   "cell_type": "code",
   "execution_count": 11,
   "id": "22375e11",
   "metadata": {},
   "outputs": [
    {
     "name": "stdout",
     "output_type": "stream",
     "text": [
      "11\n"
     ]
    }
   ],
   "source": [
    "a = '1'\n",
    "b = '1'\n",
    "\n",
    "print(a + b)"
   ]
  },
  {
   "cell_type": "code",
   "execution_count": 12,
   "id": "c0f15351",
   "metadata": {},
   "outputs": [
    {
     "name": "stdout",
     "output_type": "stream",
     "text": [
      "2\n"
     ]
    }
   ],
   "source": [
    "a = 1\n",
    "b = 1\n",
    "\n",
    "print(a + b)"
   ]
  },
  {
   "cell_type": "code",
   "execution_count": 13,
   "id": "c232b5f0",
   "metadata": {},
   "outputs": [
    {
     "name": "stdout",
     "output_type": "stream",
     "text": [
      "1 <class 'int'> 140719798260520\n",
      "2 <class 'int'> 140719798260552\n",
      "2 <class 'str'> 140719798303928\n"
     ]
    }
   ],
   "source": [
    "asfa = 1\n",
    "print(asfa, type(asfa), id(asfa))\n",
    "\n",
    "asfa = 2\n",
    "print(asfa, type(asfa), id(asfa))\n",
    "\n",
    "asfa = '2'\n",
    "print(asfa, type(asfa), id(asfa))"
   ]
  },
  {
   "cell_type": "code",
   "execution_count": 14,
   "id": "466d778a",
   "metadata": {},
   "outputs": [
    {
     "name": "stdout",
     "output_type": "stream",
     "text": [
      "140719798260680\n",
      "140719798260680\n",
      "140719798260680\n"
     ]
    }
   ],
   "source": [
    "x = 6 # shallow copy\n",
    "y = 6\n",
    "z = 6\n",
    "\n",
    "print(id(x))\n",
    "print(id(y))\n",
    "print(id(z))"
   ]
  },
  {
   "cell_type": "code",
   "execution_count": 15,
   "id": "f0507e3d",
   "metadata": {},
   "outputs": [
    {
     "name": "stdout",
     "output_type": "stream",
     "text": [
      "140719798260712\n",
      "140719798304208\n"
     ]
    }
   ],
   "source": [
    "a = 7\n",
    "b = '7'\n",
    "\n",
    "print(id(a)) # deep copy\n",
    "print(id(b))"
   ]
  },
  {
   "cell_type": "code",
   "execution_count": 16,
   "id": "1f5c35b1",
   "metadata": {},
   "outputs": [
    {
     "name": "stdout",
     "output_type": "stream",
     "text": [
      "140719798260712\n",
      "140719798304208\n"
     ]
    }
   ],
   "source": [
    "a = 7\n",
    "b = '7'\n",
    "\n",
    "print(id(a)) # deep copy\n",
    "print(id(b))"
   ]
  },
  {
   "cell_type": "markdown",
   "id": "ce95b348",
   "metadata": {},
   "source": [
    "# Python divides the operators in the following groups:\n",
    "\n",
    ". Arithmetic operators\n",
    "\n",
    ". Assignment operators\n",
    "\n",
    ". Comparison operators\n",
    "\n",
    ". Logical operators\n",
    "\n",
    ". Identity operators\n",
    "\n",
    ". Membership operators\n",
    "\n",
    ". Bitwise operators"
   ]
  },
  {
   "cell_type": "markdown",
   "id": "e8c0718d",
   "metadata": {},
   "source": [
    "# Arithmetic operators"
   ]
  },
  {
   "cell_type": "code",
   "execution_count": 17,
   "id": "c04989f7",
   "metadata": {},
   "outputs": [
    {
     "name": "stdout",
     "output_type": "stream",
     "text": [
      "9 Addition\n",
      "5 Subtaction\n",
      "14 Multiplication\n",
      "3.5 Division\n"
     ]
    }
   ],
   "source": [
    "print(2 + 7, \"Addition\")\n",
    "print(7 - 2, \"Subtaction\")\n",
    "print(7 * 2, \"Multiplication\")\n",
    "print(7 / 2, \"Division\")"
   ]
  },
  {
   "cell_type": "markdown",
   "id": "079cf040",
   "metadata": {},
   "source": [
    "print(11 % 3)"
   ]
  },
  {
   "cell_type": "code",
   "execution_count": 19,
   "id": "0907c2f1",
   "metadata": {},
   "outputs": [
    {
     "name": "stdout",
     "output_type": "stream",
     "text": [
      "4\n",
      "8\n"
     ]
    }
   ],
   "source": [
    "print(2 ** 2)\n",
    "print(2 ** 3)"
   ]
  },
  {
   "cell_type": "code",
   "execution_count": 20,
   "id": "c5a03731",
   "metadata": {},
   "outputs": [
    {
     "data": {
      "text/plain": [
       "3.5"
      ]
     },
     "execution_count": 20,
     "metadata": {},
     "output_type": "execute_result"
    }
   ],
   "source": [
    "7/2"
   ]
  },
  {
   "cell_type": "code",
   "execution_count": 21,
   "id": "b3a52446",
   "metadata": {},
   "outputs": [
    {
     "data": {
      "text/plain": [
       "3"
      ]
     },
     "execution_count": 21,
     "metadata": {},
     "output_type": "execute_result"
    }
   ],
   "source": [
    "7//2"
   ]
  },
  {
   "cell_type": "markdown",
   "id": "f7fe7924",
   "metadata": {},
   "source": [
    "# Python Assignment Operators"
   ]
  },
  {
   "cell_type": "code",
   "execution_count": 22,
   "id": "b74f0b48",
   "metadata": {},
   "outputs": [
    {
     "name": "stdout",
     "output_type": "stream",
     "text": [
      "7\n"
     ]
    }
   ],
   "source": [
    "a = 7\n",
    "print(a)"
   ]
  },
  {
   "cell_type": "code",
   "execution_count": 23,
   "id": "b4abe47b",
   "metadata": {},
   "outputs": [
    {
     "name": "stdout",
     "output_type": "stream",
     "text": [
      "9\n"
     ]
    }
   ],
   "source": [
    "a += 2\n",
    "print(a)"
   ]
  },
  {
   "cell_type": "markdown",
   "id": "e943693c",
   "metadata": {},
   "source": [
    "# Python Comparison Operators"
   ]
  },
  {
   "cell_type": "code",
   "execution_count": 24,
   "id": "bdaf81e0",
   "metadata": {},
   "outputs": [
    {
     "data": {
      "text/plain": [
       "True"
      ]
     },
     "execution_count": 24,
     "metadata": {},
     "output_type": "execute_result"
    }
   ],
   "source": [
    "a = 7\n",
    "b = 7\n",
    "\n",
    "a == b\n",
    "\n",
    "#a == b\n",
    "#7 == 7\n",
    "#True"
   ]
  },
  {
   "cell_type": "code",
   "execution_count": 25,
   "id": "64cfc986",
   "metadata": {},
   "outputs": [
    {
     "data": {
      "text/plain": [
       "False"
      ]
     },
     "execution_count": 25,
     "metadata": {},
     "output_type": "execute_result"
    }
   ],
   "source": [
    "a = 7\n",
    "b = 9\n",
    "\n",
    "a == b\n",
    "#a == b\n",
    "#7 == 7\n",
    "#False"
   ]
  },
  {
   "cell_type": "code",
   "execution_count": 26,
   "id": "7af6f586",
   "metadata": {},
   "outputs": [
    {
     "data": {
      "text/plain": [
       "False"
      ]
     },
     "execution_count": 26,
     "metadata": {},
     "output_type": "execute_result"
    }
   ],
   "source": [
    "a = 7\n",
    "b = 9\n",
    "\n",
    "a > b\n",
    "#a == b\n",
    "#7 == 9\n",
    "#False"
   ]
  },
  {
   "cell_type": "code",
   "execution_count": 27,
   "id": "9eac2f32",
   "metadata": {},
   "outputs": [
    {
     "data": {
      "text/plain": [
       "True"
      ]
     },
     "execution_count": 27,
     "metadata": {},
     "output_type": "execute_result"
    }
   ],
   "source": [
    "a = 7\n",
    "b = 9\n",
    "\n",
    "a < b\n",
    "#a == b\n",
    "#7 == 9\n",
    "#True"
   ]
  },
  {
   "cell_type": "code",
   "execution_count": 28,
   "id": "fe854f92",
   "metadata": {},
   "outputs": [
    {
     "data": {
      "text/plain": [
       "True"
      ]
     },
     "execution_count": 28,
     "metadata": {},
     "output_type": "execute_result"
    }
   ],
   "source": [
    "a = 9\n",
    "b = 9\n",
    "\n",
    "a >= b\n",
    "#a == b\n",
    "#7 == 9\n",
    "#False"
   ]
  },
  {
   "cell_type": "code",
   "execution_count": 29,
   "id": "c97c159a",
   "metadata": {},
   "outputs": [
    {
     "data": {
      "text/plain": [
       "False"
      ]
     },
     "execution_count": 29,
     "metadata": {},
     "output_type": "execute_result"
    }
   ],
   "source": [
    "a = 9\n",
    "b = 9\n",
    "\n",
    "a != b\n",
    "#a == b\n",
    "#7 == 9\n",
    "#False"
   ]
  },
  {
   "cell_type": "markdown",
   "id": "42715aae",
   "metadata": {},
   "source": [
    "# Python Logical Operators"
   ]
  },
  {
   "cell_type": "code",
   "execution_count": 30,
   "id": "d41c99d4",
   "metadata": {},
   "outputs": [
    {
     "name": "stdout",
     "output_type": "stream",
     "text": [
      "True\n",
      "False\n",
      "False\n"
     ]
    }
   ],
   "source": [
    "#      1        2        3        4\n",
    "print(True and True and True and True)\n",
    "print(True and False and True and True)\n",
    "print(True and False and True and False)"
   ]
  },
  {
   "cell_type": "code",
   "execution_count": 31,
   "id": "8653c38a",
   "metadata": {},
   "outputs": [
    {
     "name": "stdout",
     "output_type": "stream",
     "text": [
      "True\n",
      "True\n",
      "True\n",
      "True\n"
     ]
    }
   ],
   "source": [
    "#      1        2        3        4\n",
    "print(True or True or True or True)\n",
    "print(True or False or True or True)\n",
    "print(True or False or True or False)\n",
    "print(False or True or True or True)"
   ]
  },
  {
   "cell_type": "code",
   "execution_count": null,
   "id": "cf048784",
   "metadata": {},
   "outputs": [],
   "source": []
  }
 ],
 "metadata": {
  "kernelspec": {
   "display_name": "Python 3 (ipykernel)",
   "language": "python",
   "name": "python3"
  },
  "language_info": {
   "codemirror_mode": {
    "name": "ipython",
    "version": 3
   },
   "file_extension": ".py",
   "mimetype": "text/x-python",
   "name": "python",
   "nbconvert_exporter": "python",
   "pygments_lexer": "ipython3",
   "version": "3.11.3"
  }
 },
 "nbformat": 4,
 "nbformat_minor": 5
}
